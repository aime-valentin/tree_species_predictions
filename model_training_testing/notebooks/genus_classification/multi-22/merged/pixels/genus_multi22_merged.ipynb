{
 "cells": [
  {
   "cell_type": "code",
   "execution_count": 1,
   "id": "058b6852",
   "metadata": {},
   "outputs": [],
   "source": [
    "## Overview "
   ]
  },
  {
   "cell_type": "code",
   "execution_count": 17,
   "id": "f3201279",
   "metadata": {},
   "outputs": [],
   "source": [
    "### Import Libraries\n",
    "#import libraries\n",
    "import pandas as pd\n",
    "import numpy as np\n",
    "import seaborn as sns\n",
    "from sklearn import decomposition\n",
    "from joblib import dump, load\n",
    "\n",
    "from sklearn.model_selection import train_test_split\n",
    "from sklearn.metrics import confusion_matrix,classification_report, accuracy_score \n",
    "import matplotlib.pyplot as plt\n",
    "\n",
    "from sklearn.ensemble import RandomForestClassifier\n",
    "from sklearn.model_selection import GridSearchCV\n",
    "from sklearn.model_selection import RandomizedSearchCV\n",
    "from sklearn.preprocessing import LabelEncoder\n",
    "from sklearn.decomposition import PCA\n",
    "\n",
    "import time\n",
    "import sys\n",
    "sys.path.insert(0,'../../../../../utils')\n",
    "from helper_functions_genus import *\n",
    "#import helper_function custom library\n",
    "from model_builder_genus import ModelBuilder\n",
    "pd.options.mode.chained_assignment = None\n",
    "%matplotlib inline "
   ]
  },
  {
   "cell_type": "code",
   "execution_count": 18,
   "id": "ef9bf85a",
   "metadata": {},
   "outputs": [],
   "source": [
    "### Import Data and Clean Data\n"
   ]
  },
  {
   "cell_type": "code",
   "execution_count": 19,
   "id": "38c10469",
   "metadata": {},
   "outputs": [],
   "source": [
    "#load spectra data\n",
    "#import_spectra\n",
    "spectra = pd.read_csv(\"../../../../../data/imp_bands.csv\")\n",
    "df_aug = pd.read_csv(\"../../../../../data/refCanopies0802_0630.txt\")\n",
    "df_sep = pd.read_csv(\"../../../../../data/refCanopies0917_0630.txt\")\n",
    "df_oct = pd.read_csv(\"../../../../../data/refCanopies1016_0630.txt\")\n",
    "\n",
    "#load tree data\n",
    "df_tree = pd.read_csv(\"../../../../../data/Export_Output_2_0630_Genus.txt\")"
   ]
  },
  {
   "cell_type": "code",
   "execution_count": 20,
   "id": "f774fd2d",
   "metadata": {},
   "outputs": [
    {
     "data": {
      "text/html": [
       "<div>\n",
       "<style scoped>\n",
       "    .dataframe tbody tr th:only-of-type {\n",
       "        vertical-align: middle;\n",
       "    }\n",
       "\n",
       "    .dataframe tbody tr th {\n",
       "        vertical-align: top;\n",
       "    }\n",
       "\n",
       "    .dataframe thead th {\n",
       "        text-align: right;\n",
       "    }\n",
       "</style>\n",
       "<table border=\"1\" class=\"dataframe\">\n",
       "  <thead>\n",
       "    <tr style=\"text-align: right;\">\n",
       "      <th></th>\n",
       "      <th>ROIID</th>\n",
       "      <th>IDwithROI</th>\n",
       "      <th>X</th>\n",
       "      <th>Y</th>\n",
       "      <th>MapX</th>\n",
       "      <th>MapY</th>\n",
       "      <th>Lat</th>\n",
       "      <th>Lon</th>\n",
       "      <th>440.24</th>\n",
       "      <th>441.93</th>\n",
       "      <th>...</th>\n",
       "      <th>654.07</th>\n",
       "      <th>655.8</th>\n",
       "      <th>657.52</th>\n",
       "      <th>659.24</th>\n",
       "      <th>840.32</th>\n",
       "      <th>842.04</th>\n",
       "      <th>843.76</th>\n",
       "      <th>845.49</th>\n",
       "      <th>847.21</th>\n",
       "      <th>848.93</th>\n",
       "    </tr>\n",
       "  </thead>\n",
       "  <tbody>\n",
       "    <tr>\n",
       "      <th>0</th>\n",
       "      <td>1</td>\n",
       "      <td>1</td>\n",
       "      <td>6558</td>\n",
       "      <td>1881</td>\n",
       "      <td>697516.92</td>\n",
       "      <td>4522326.17</td>\n",
       "      <td>40.828198</td>\n",
       "      <td>-96.657615</td>\n",
       "      <td>0.0159</td>\n",
       "      <td>0.0153</td>\n",
       "      <td>...</td>\n",
       "      <td>0.0242</td>\n",
       "      <td>0.0240</td>\n",
       "      <td>0.0230</td>\n",
       "      <td>0.0218</td>\n",
       "      <td>0.1312</td>\n",
       "      <td>0.1315</td>\n",
       "      <td>0.1323</td>\n",
       "      <td>0.1339</td>\n",
       "      <td>0.1361</td>\n",
       "      <td>0.1384</td>\n",
       "    </tr>\n",
       "    <tr>\n",
       "      <th>1</th>\n",
       "      <td>1</td>\n",
       "      <td>2</td>\n",
       "      <td>6559</td>\n",
       "      <td>1881</td>\n",
       "      <td>697517.52</td>\n",
       "      <td>4522326.17</td>\n",
       "      <td>40.828198</td>\n",
       "      <td>-96.657608</td>\n",
       "      <td>0.0155</td>\n",
       "      <td>0.0157</td>\n",
       "      <td>...</td>\n",
       "      <td>0.0236</td>\n",
       "      <td>0.0231</td>\n",
       "      <td>0.0223</td>\n",
       "      <td>0.0216</td>\n",
       "      <td>0.1339</td>\n",
       "      <td>0.1349</td>\n",
       "      <td>0.1362</td>\n",
       "      <td>0.1376</td>\n",
       "      <td>0.1399</td>\n",
       "      <td>0.1424</td>\n",
       "    </tr>\n",
       "    <tr>\n",
       "      <th>2</th>\n",
       "      <td>1</td>\n",
       "      <td>3</td>\n",
       "      <td>6560</td>\n",
       "      <td>1881</td>\n",
       "      <td>697518.12</td>\n",
       "      <td>4522326.17</td>\n",
       "      <td>40.828198</td>\n",
       "      <td>-96.657600</td>\n",
       "      <td>0.0164</td>\n",
       "      <td>0.0163</td>\n",
       "      <td>...</td>\n",
       "      <td>0.0298</td>\n",
       "      <td>0.0287</td>\n",
       "      <td>0.0275</td>\n",
       "      <td>0.0266</td>\n",
       "      <td>0.2173</td>\n",
       "      <td>0.2209</td>\n",
       "      <td>0.2228</td>\n",
       "      <td>0.2252</td>\n",
       "      <td>0.2275</td>\n",
       "      <td>0.2292</td>\n",
       "    </tr>\n",
       "    <tr>\n",
       "      <th>3</th>\n",
       "      <td>1</td>\n",
       "      <td>4</td>\n",
       "      <td>6561</td>\n",
       "      <td>1881</td>\n",
       "      <td>697518.72</td>\n",
       "      <td>4522326.17</td>\n",
       "      <td>40.828198</td>\n",
       "      <td>-96.657593</td>\n",
       "      <td>0.0164</td>\n",
       "      <td>0.0163</td>\n",
       "      <td>...</td>\n",
       "      <td>0.0298</td>\n",
       "      <td>0.0287</td>\n",
       "      <td>0.0275</td>\n",
       "      <td>0.0266</td>\n",
       "      <td>0.2173</td>\n",
       "      <td>0.2209</td>\n",
       "      <td>0.2228</td>\n",
       "      <td>0.2252</td>\n",
       "      <td>0.2275</td>\n",
       "      <td>0.2292</td>\n",
       "    </tr>\n",
       "    <tr>\n",
       "      <th>4</th>\n",
       "      <td>1</td>\n",
       "      <td>5</td>\n",
       "      <td>6562</td>\n",
       "      <td>1881</td>\n",
       "      <td>697519.32</td>\n",
       "      <td>4522326.17</td>\n",
       "      <td>40.828197</td>\n",
       "      <td>-96.657586</td>\n",
       "      <td>0.0175</td>\n",
       "      <td>0.0177</td>\n",
       "      <td>...</td>\n",
       "      <td>0.0337</td>\n",
       "      <td>0.0332</td>\n",
       "      <td>0.0324</td>\n",
       "      <td>0.0315</td>\n",
       "      <td>0.2763</td>\n",
       "      <td>0.2779</td>\n",
       "      <td>0.2804</td>\n",
       "      <td>0.2831</td>\n",
       "      <td>0.2855</td>\n",
       "      <td>0.2875</td>\n",
       "    </tr>\n",
       "  </tbody>\n",
       "</table>\n",
       "<p>5 rows × 30 columns</p>\n",
       "</div>"
      ],
      "text/plain": [
       "   ROIID  IDwithROI     X     Y       MapX        MapY        Lat        Lon  \\\n",
       "0      1          1  6558  1881  697516.92  4522326.17  40.828198 -96.657615   \n",
       "1      1          2  6559  1881  697517.52  4522326.17  40.828198 -96.657608   \n",
       "2      1          3  6560  1881  697518.12  4522326.17  40.828198 -96.657600   \n",
       "3      1          4  6561  1881  697518.72  4522326.17  40.828198 -96.657593   \n",
       "4      1          5  6562  1881  697519.32  4522326.17  40.828197 -96.657586   \n",
       "\n",
       "   440.24  441.93  ...  654.07   655.8  657.52  659.24  840.32  842.04  \\\n",
       "0  0.0159  0.0153  ...  0.0242  0.0240  0.0230  0.0218  0.1312  0.1315   \n",
       "1  0.0155  0.0157  ...  0.0236  0.0231  0.0223  0.0216  0.1339  0.1349   \n",
       "2  0.0164  0.0163  ...  0.0298  0.0287  0.0275  0.0266  0.2173  0.2209   \n",
       "3  0.0164  0.0163  ...  0.0298  0.0287  0.0275  0.0266  0.2173  0.2209   \n",
       "4  0.0175  0.0177  ...  0.0337  0.0332  0.0324  0.0315  0.2763  0.2779   \n",
       "\n",
       "   843.76  845.49  847.21  848.93  \n",
       "0  0.1323  0.1339  0.1361  0.1384  \n",
       "1  0.1362  0.1376  0.1399  0.1424  \n",
       "2  0.2228  0.2252  0.2275  0.2292  \n",
       "3  0.2228  0.2252  0.2275  0.2292  \n",
       "4  0.2804  0.2831  0.2855  0.2875  \n",
       "\n",
       "[5 rows x 30 columns]"
      ]
     },
     "execution_count": 20,
     "metadata": {},
     "output_type": "execute_result"
    }
   ],
   "source": [
    "#select 22 bands only\n",
    "cols = list(df_aug.columns[:8]) + [str(i) for i in list(spectra.imp_bands)]\n",
    "df_aug = df_aug[cols]\n",
    "df_sep = df_sep[cols]\n",
    "df_oct = df_oct[cols]\n",
    "df_aug.head()"
   ]
  },
  {
   "cell_type": "code",
   "execution_count": 21,
   "id": "a864ee46",
   "metadata": {},
   "outputs": [],
   "source": [
    "#clean data\n",
    "#removes non-vegatation pixels, tRef.NDVI = (tRef.x800_67 - tRef.x679_92) ./ (tRef.x800_67 + tRef.x679_92)\n",
    "#removes shaded or dark pixels as well, (pixel's reflectance@800_67 <=0.15)\n",
    "df_aug = data_cleaning(df_tree,df_aug)\n",
    "df_sep = data_cleaning(df_tree,df_sep)\n",
    "df_oct = data_cleaning(df_tree,df_oct)"
   ]
  },
  {
   "cell_type": "code",
   "execution_count": 22,
   "id": "2c777811",
   "metadata": {},
   "outputs": [],
   "source": [
    "### Merge Data and Split Data"
   ]
  },
  {
   "cell_type": "code",
   "execution_count": 23,
   "id": "b5bbad63",
   "metadata": {},
   "outputs": [],
   "source": [
    "#merge data\n",
    "#column-wise left-join of the three datasets\n",
    "#join August and September images by extracting common pixels (intersections)\n",
    "df = merge_images([df_aug,df_sep,df_oct])"
   ]
  },
  {
   "cell_type": "code",
   "execution_count": 24,
   "id": "e2c11c91",
   "metadata": {},
   "outputs": [],
   "source": [
    "### No Dimesion Reduction"
   ]
  },
  {
   "cell_type": "code",
   "execution_count": 25,
   "id": "26f2c195",
   "metadata": {},
   "outputs": [],
   "source": [
    "#split data \n",
    "#features (spectra)\n",
    "X = df[df.columns[3:]].values\n",
    "#predictor/target(tree species class)\n",
    "y = LabelEncoder().fit_transform(df.TARGET) \n",
    "X_train, X_test, y_train, y_test = train_test_split(X, y, test_size=0.30, random_state=101) #70:30 split, train-test"
   ]
  },
  {
   "cell_type": "code",
   "execution_count": 26,
   "id": "a85477f2",
   "metadata": {},
   "outputs": [],
   "source": [
    "### Build A Model"
   ]
  },
  {
   "cell_type": "code",
   "execution_count": 27,
   "id": "1261ea32",
   "metadata": {},
   "outputs": [
    {
     "name": "stderr",
     "output_type": "stream",
     "text": [
      "[Parallel(n_jobs=1)]: Using backend SequentialBackend with 1 concurrent workers.\n",
      "[Parallel(n_jobs=1)]: Done 100 out of 100 | elapsed:  1.7min finished\n"
     ]
    },
    {
     "data": {
      "text/plain": [
       "RandomForestClassifier(oob_score=True, verbose=1)"
      ]
     },
     "execution_count": 27,
     "metadata": {},
     "output_type": "execute_result"
    }
   ],
   "source": [
    "model_name = \"genus_multi22_merged_nd\"\n",
    "merge_nd = RandomForestClassifier(n_estimators = 100,verbose=1, oob_score = True)\n",
    "merge_nd.fit(X_train,y_train)"
   ]
  },
  {
   "cell_type": "code",
   "execution_count": 28,
   "id": "b315d895",
   "metadata": {},
   "outputs": [],
   "source": [
    "#create a confusion matrix\n",
    "labels = [\"Ash\",\"Maple\",\"Oak\",\"Pine\",\"Redbud\",\"Spruce\"]\n",
    "nclasses = 6\n",
    "evals = []"
   ]
  },
  {
   "cell_type": "code",
   "execution_count": 29,
   "id": "7f9e4996",
   "metadata": {},
   "outputs": [],
   "source": [
    "#save the model\n",
    "save_model(merge_nd,model_name)"
   ]
  },
  {
   "cell_type": "code",
   "execution_count": 30,
   "id": "4f9e9b0c",
   "metadata": {},
   "outputs": [
    {
     "name": "stderr",
     "output_type": "stream",
     "text": [
      "[Parallel(n_jobs=1)]: Using backend SequentialBackend with 1 concurrent workers.\n",
      "[Parallel(n_jobs=1)]: Done 100 out of 100 | elapsed:    4.0s finished\n",
      "[Parallel(n_jobs=1)]: Using backend SequentialBackend with 1 concurrent workers.\n",
      "[Parallel(n_jobs=1)]: Done 100 out of 100 | elapsed:    1.9s finished\n"
     ]
    },
    {
     "data": {
      "image/png": "[encoded data removed]",
      "text/plain": [
       "<Figure size 1080x720 with 1 Axes>"
      ]
     },
     "metadata": {
      "needs_background": "light"
     },
     "output_type": "display_data"
    }
   ],
   "source": [
    "#metrics\n",
    "train_preds = merge_nd.predict(X_train)\n",
    "preds = merge_nd.predict(X_test)\n",
    "train_accuracy = 100*(accuracy_score(train_preds,y_train))\n",
    "test_accuracy = 100*(accuracy_score(y_test, preds))\n",
    "generate_cf(model_name,y_test,preds,nclasses,labels)\n",
    "merge_nd_results =pd.DataFrame.from_dict( {\"Model\":[model_name], \"Train Accuracy(%)\":[train_accuracy],\n",
    "        \"Test Accuracy(%)\":[test_accuracy]})\n",
    "evals.append(merge_nd_results)"
   ]
  },
  {
   "cell_type": "code",
   "execution_count": 31,
   "id": "b7d6c13f",
   "metadata": {},
   "outputs": [
    {
     "data": {
      "text/html": [
       "<div>\n",
       "<style scoped>\n",
       "    .dataframe tbody tr th:only-of-type {\n",
       "        vertical-align: middle;\n",
       "    }\n",
       "\n",
       "    .dataframe tbody tr th {\n",
       "        vertical-align: top;\n",
       "    }\n",
       "\n",
       "    .dataframe thead th {\n",
       "        text-align: right;\n",
       "    }\n",
       "</style>\n",
       "<table border=\"1\" class=\"dataframe\">\n",
       "  <thead>\n",
       "    <tr style=\"text-align: right;\">\n",
       "      <th></th>\n",
       "      <th>Model</th>\n",
       "      <th>Train Accuracy(%)</th>\n",
       "      <th>Test Accuracy(%)</th>\n",
       "    </tr>\n",
       "  </thead>\n",
       "  <tbody>\n",
       "    <tr>\n",
       "      <th>0</th>\n",
       "      <td>genus_multi22_merged_nd</td>\n",
       "      <td>99.964516</td>\n",
       "      <td>92.551593</td>\n",
       "    </tr>\n",
       "  </tbody>\n",
       "</table>\n",
       "</div>"
      ],
      "text/plain": [
       "                     Model  Train Accuracy(%)  Test Accuracy(%)\n",
       "0  genus_multi22_merged_nd          99.964516         92.551593"
      ]
     },
     "execution_count": 31,
     "metadata": {},
     "output_type": "execute_result"
    }
   ],
   "source": [
    "#complile results\n",
    "df_results = pd.concat(evals)\n",
    "df_results"
   ]
  },
  {
   "cell_type": "code",
   "execution_count": 32,
   "id": "e8fc7e1b",
   "metadata": {},
   "outputs": [],
   "source": [
    "df_results.to_csv('genus_multi22_merged_summary_results.csv')"
   ]
  },
  {
   "cell_type": "code",
   "execution_count": null,
   "id": "abd3fd89",
   "metadata": {},
   "outputs": [],
   "source": []
  },
  {
   "cell_type": "code",
   "execution_count": null,
   "id": "9fc44e80",
   "metadata": {},
   "outputs": [],
   "source": []
  },
  {
   "cell_type": "code",
   "execution_count": null,
   "id": "96d7b4a2",
   "metadata": {},
   "outputs": [],
   "source": []
  }
 ],
 "metadata": {
  "kernelspec": {
   "display_name": "Python 3",
   "language": "python",
   "name": "python3"
  },
  "language_info": {
   "codemirror_mode": {
    "name": "ipython",
    "version": 3
   },
   "file_extension": ".py",
   "mimetype": "text/x-python",
   "name": "python",
   "nbconvert_exporter": "python",
   "pygments_lexer": "ipython3",
   "version": "3.8.8"
  }
 },
 "nbformat": 4,
 "nbformat_minor": 5
}
